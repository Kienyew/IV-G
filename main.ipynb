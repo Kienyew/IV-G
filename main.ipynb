{
 "cells": [
  {
   "cell_type": "markdown",
   "id": "578e2488-b9bf-4fb4-acc2-37ab8217bba6",
   "metadata": {},
   "source": [
    "抄袭自 https://www.kaggle.com/code/jamesloy/deep-learning-based-recommender-systems"
   ]
  },
  {
   "cell_type": "code",
   "execution_count": 1,
   "id": "279f77a8-59a9-4f05-9f8b-3c72993a91a4",
   "metadata": {},
   "outputs": [
    {
     "name": "stdout",
     "output_type": "stream",
     "text": [
      "using cuda device\n"
     ]
    }
   ],
   "source": [
    "from datetime import datetime\n",
    "import pandas as pd\n",
    "import numpy as np\n",
    "\n",
    "import torch\n",
    "import torch.nn as nn\n",
    "from torch.utils.data import Dataset, DataLoader\n",
    "\n",
    "device = torch.device('cuda' if torch.cuda.is_available() else 'cpu')\n",
    "# np.random.seed(1024)\n",
    "\n",
    "print(f'using {device} device')"
   ]
  },
  {
   "cell_type": "markdown",
   "id": "2b674cd1-83d9-4901-9f1e-e02589e0e968",
   "metadata": {},
   "source": [
    "### Read dataset from file"
   ]
  },
  {
   "cell_type": "code",
   "execution_count": 2,
   "id": "804c3e8f-3a9e-434e-9bb1-59d3a4560a99",
   "metadata": {},
   "outputs": [
    {
     "data": {
      "text/html": [
       "<div>\n",
       "<style scoped>\n",
       "    .dataframe tbody tr th:only-of-type {\n",
       "        vertical-align: middle;\n",
       "    }\n",
       "\n",
       "    .dataframe tbody tr th {\n",
       "        vertical-align: top;\n",
       "    }\n",
       "\n",
       "    .dataframe thead th {\n",
       "        text-align: right;\n",
       "    }\n",
       "</style>\n",
       "<table border=\"1\" class=\"dataframe\">\n",
       "  <thead>\n",
       "    <tr style=\"text-align: right;\">\n",
       "      <th></th>\n",
       "      <th>userId</th>\n",
       "      <th>movieId</th>\n",
       "      <th>rating</th>\n",
       "      <th>timestamp</th>\n",
       "    </tr>\n",
       "  </thead>\n",
       "  <tbody>\n",
       "    <tr>\n",
       "      <th>58019</th>\n",
       "      <td>380</td>\n",
       "      <td>122906</td>\n",
       "      <td>3.5</td>\n",
       "      <td>2018-09-14 05:04:59</td>\n",
       "    </tr>\n",
       "    <tr>\n",
       "      <th>95900</th>\n",
       "      <td>601</td>\n",
       "      <td>4963</td>\n",
       "      <td>4.5</td>\n",
       "      <td>2015-09-07 23:31:15</td>\n",
       "    </tr>\n",
       "    <tr>\n",
       "      <th>70305</th>\n",
       "      <td>448</td>\n",
       "      <td>118900</td>\n",
       "      <td>3.0</td>\n",
       "      <td>2015-12-13 04:21:19</td>\n",
       "    </tr>\n",
       "    <tr>\n",
       "      <th>3085</th>\n",
       "      <td>20</td>\n",
       "      <td>3159</td>\n",
       "      <td>5.0</td>\n",
       "      <td>2003-05-27 20:21:55</td>\n",
       "    </tr>\n",
       "    <tr>\n",
       "      <th>29050</th>\n",
       "      <td>200</td>\n",
       "      <td>2599</td>\n",
       "      <td>3.0</td>\n",
       "      <td>2008-12-22 00:20:30</td>\n",
       "    </tr>\n",
       "  </tbody>\n",
       "</table>\n",
       "</div>"
      ],
      "text/plain": [
       "       userId  movieId  rating           timestamp\n",
       "58019     380   122906     3.5 2018-09-14 05:04:59\n",
       "95900     601     4963     4.5 2015-09-07 23:31:15\n",
       "70305     448   118900     3.0 2015-12-13 04:21:19\n",
       "3085       20     3159     5.0 2003-05-27 20:21:55\n",
       "29050     200     2599     3.0 2008-12-22 00:20:30"
      ]
     },
     "execution_count": 2,
     "metadata": {},
     "output_type": "execute_result"
    }
   ],
   "source": [
    "# From https://grouplens.org/datasets/movielens/latest/\n",
    "# Should use ml-latest instead of ml-latest-small for final project \n",
    "ratings = pd.read_csv('./ml-latest-small/ratings.csv', parse_dates=['timestamp'], date_parser=lambda s: datetime.fromtimestamp(int(s)))\n",
    "ratings.sample(5)"
   ]
  },
  {
   "cell_type": "markdown",
   "id": "30ff67a4-cde3-4b0b-bd4d-9af09128700f",
   "metadata": {},
   "source": [
    "### Sort entry by timestamp"
   ]
  },
  {
   "cell_type": "code",
   "execution_count": 3,
   "id": "1765a10f-013a-4d64-b592-e7c0756c89a6",
   "metadata": {},
   "outputs": [
    {
     "data": {
      "text/plain": [
       "0          86.0\n",
       "1         196.0\n",
       "2         141.0\n",
       "3          18.0\n",
       "4          66.0\n",
       "          ...  \n",
       "100831    314.0\n",
       "100832     95.0\n",
       "100833     23.0\n",
       "100834    615.0\n",
       "100835    610.0\n",
       "Name: rank_latest, Length: 100836, dtype: float64"
      ]
     },
     "execution_count": 3,
     "metadata": {},
     "output_type": "execute_result"
    }
   ],
   "source": [
    "ratings['rank_latest'] = ratings.groupby(['userId'])['timestamp'] \\\n",
    "                                .rank(method='first', ascending=False)\n",
    "\n",
    "ratings['rank_latest']"
   ]
  },
  {
   "cell_type": "markdown",
   "id": "b0722b4e-1ee2-4cca-bea8-52896a1f382f",
   "metadata": {},
   "source": [
    "### Train-test split by timestamp\n",
    "We use earlier entries as train data, latest entries as test data, because it does not makes sense to use future data to predict earlier behaviour."
   ]
  },
  {
   "cell_type": "code",
   "execution_count": 4,
   "id": "bae08af6-c388-4e22-8583-40bbf4a37e15",
   "metadata": {},
   "outputs": [
    {
     "data": {
      "text/html": [
       "<div>\n",
       "<style scoped>\n",
       "    .dataframe tbody tr th:only-of-type {\n",
       "        vertical-align: middle;\n",
       "    }\n",
       "\n",
       "    .dataframe tbody tr th {\n",
       "        vertical-align: top;\n",
       "    }\n",
       "\n",
       "    .dataframe thead th {\n",
       "        text-align: right;\n",
       "    }\n",
       "</style>\n",
       "<table border=\"1\" class=\"dataframe\">\n",
       "  <thead>\n",
       "    <tr style=\"text-align: right;\">\n",
       "      <th></th>\n",
       "      <th>userId</th>\n",
       "      <th>movieId</th>\n",
       "      <th>rating</th>\n",
       "    </tr>\n",
       "  </thead>\n",
       "  <tbody>\n",
       "    <tr>\n",
       "      <th>0</th>\n",
       "      <td>1</td>\n",
       "      <td>1</td>\n",
       "      <td>4.0</td>\n",
       "    </tr>\n",
       "    <tr>\n",
       "      <th>1</th>\n",
       "      <td>1</td>\n",
       "      <td>3</td>\n",
       "      <td>4.0</td>\n",
       "    </tr>\n",
       "    <tr>\n",
       "      <th>2</th>\n",
       "      <td>1</td>\n",
       "      <td>6</td>\n",
       "      <td>4.0</td>\n",
       "    </tr>\n",
       "    <tr>\n",
       "      <th>3</th>\n",
       "      <td>1</td>\n",
       "      <td>47</td>\n",
       "      <td>5.0</td>\n",
       "    </tr>\n",
       "    <tr>\n",
       "      <th>4</th>\n",
       "      <td>1</td>\n",
       "      <td>50</td>\n",
       "      <td>5.0</td>\n",
       "    </tr>\n",
       "    <tr>\n",
       "      <th>...</th>\n",
       "      <td>...</td>\n",
       "      <td>...</td>\n",
       "      <td>...</td>\n",
       "    </tr>\n",
       "    <tr>\n",
       "      <th>100831</th>\n",
       "      <td>610</td>\n",
       "      <td>166534</td>\n",
       "      <td>4.0</td>\n",
       "    </tr>\n",
       "    <tr>\n",
       "      <th>100832</th>\n",
       "      <td>610</td>\n",
       "      <td>168248</td>\n",
       "      <td>5.0</td>\n",
       "    </tr>\n",
       "    <tr>\n",
       "      <th>100833</th>\n",
       "      <td>610</td>\n",
       "      <td>168250</td>\n",
       "      <td>5.0</td>\n",
       "    </tr>\n",
       "    <tr>\n",
       "      <th>100834</th>\n",
       "      <td>610</td>\n",
       "      <td>168252</td>\n",
       "      <td>5.0</td>\n",
       "    </tr>\n",
       "    <tr>\n",
       "      <th>100835</th>\n",
       "      <td>610</td>\n",
       "      <td>170875</td>\n",
       "      <td>3.0</td>\n",
       "    </tr>\n",
       "  </tbody>\n",
       "</table>\n",
       "<p>99006 rows × 3 columns</p>\n",
       "</div>"
      ],
      "text/plain": [
       "        userId  movieId  rating\n",
       "0            1        1     4.0\n",
       "1            1        3     4.0\n",
       "2            1        6     4.0\n",
       "3            1       47     5.0\n",
       "4            1       50     5.0\n",
       "...        ...      ...     ...\n",
       "100831     610   166534     4.0\n",
       "100832     610   168248     5.0\n",
       "100833     610   168250     5.0\n",
       "100834     610   168252     5.0\n",
       "100835     610   170875     3.0\n",
       "\n",
       "[99006 rows x 3 columns]"
      ]
     },
     "execution_count": 4,
     "metadata": {},
     "output_type": "execute_result"
    }
   ],
   "source": [
    "ratings['rank_latest'] = ratings.groupby(['userId'])['timestamp'] \\\n",
    "       .rank(method='first', ascending=False)\n",
    "\n",
    "train_ratings = ratings[ratings['rank_latest'] >= 4.0]\n",
    "test_ratings = ratings[ratings['rank_latest'] < 4.0]\n",
    "\n",
    "train_ratings = train_ratings[['userId', 'movieId', 'rating']]\n",
    "test_ratings = test_ratings[['userId', 'movieId', 'rating']]\n",
    "\n",
    "train_ratings"
   ]
  },
  {
   "cell_type": "markdown",
   "id": "d78c0d7a-d9f0-47f0-97c3-86cabff27a42",
   "metadata": {},
   "source": [
    "### Define dataset class"
   ]
  },
  {
   "cell_type": "code",
   "execution_count": 5,
   "id": "775fa8c1-9746-425d-a9c5-8f0ad6e4d6d0",
   "metadata": {},
   "outputs": [],
   "source": [
    "class MovieLensTrainDataset(Dataset):\n",
    "    def __init__(self, ratings, all_movieIds):\n",
    "        self.users, self.items, self.labels = self.get_dataset(ratings, all_movieIds)\n",
    "\n",
    "    def __len__(self):\n",
    "        return len(self.users)\n",
    "\n",
    "    def __getitem__(self, idx):\n",
    "        return self.users[idx], self.items[idx], self.labels[idx]\n",
    "\n",
    "    def get_dataset(self, ratings, all_movieIds):\n",
    "        users, items, labels = [], [], []        \n",
    "        user_item_set = set(zip(ratings['userId'], ratings['movieId']))\n",
    "        num_negative = 4\n",
    "        for u, i in user_item_set:\n",
    "            users.append(u)\n",
    "            items.append(i)\n",
    "            labels.append(1)\n",
    "        \n",
    "            for _ in range(num_negative):\n",
    "                negative_item = np.random.choice(all_movieIds)\n",
    "                while (u, negative_item) in user_item_set:\n",
    "                    negative_item = np.random.choice(all_movieIds)\n",
    "        \n",
    "                users.append(u)\n",
    "                items.append(negative_item)\n",
    "                labels.append(0)\n",
    "\n",
    "        users_tensor = torch.tensor(users)\n",
    "        items_tensor = torch.tensor(items)\n",
    "        labels_tensor = torch.tensor(labels)\n",
    "\n",
    "        return users_tensor, items_tensor, labels_tensor"
   ]
  },
  {
   "cell_type": "markdown",
   "id": "472e6ad6-42cc-4ef3-a7c7-7e48ab7723e3",
   "metadata": {},
   "source": [
    "### Define NCF model structure"
   ]
  },
  {
   "cell_type": "code",
   "execution_count": 6,
   "id": "095bd0a2-e481-4ed1-a9d7-55f01a10c173",
   "metadata": {},
   "outputs": [],
   "source": [
    "class NCF(torch.nn.Module):\n",
    "    def __init__(self, num_users, num_items, ratings, all_movieIds):\n",
    "        super().__init__()\n",
    "        self.user_embedding = nn.Embedding(num_embeddings=num_users, embedding_dim=32)\n",
    "        self.item_embedding = nn.Embedding(num_embeddings=num_items, embedding_dim=32)\n",
    "        self.fc1 = nn.Linear(in_features=32 + 32, out_features=128)\n",
    "        self.fc2 = nn.Linear(in_features=128, out_features=64)\n",
    "        self.output = nn.Linear(in_features=64, out_features=1)\n",
    "        self.ratings = ratings\n",
    "        self.all_movieIds = all_movieIds\n",
    "    \n",
    "    def forward(self, user_input, item_input):        \n",
    "        user_embedded = self.user_embedding(user_input)\n",
    "        item_embedded = self.item_embedding(item_input)\n",
    "\n",
    "        vector = torch.cat([user_embedded, item_embedded], dim=1)\n",
    "        vector = nn.ReLU()(self.fc1(vector))\n",
    "        vector = nn.ReLU()(self.fc2(vector))\n",
    "\n",
    "        output = nn.Sigmoid()(self.output(vector))\n",
    "        return output"
   ]
  },
  {
   "cell_type": "markdown",
   "id": "87bc1691-9956-45e2-ad1f-8165772c2f78",
   "metadata": {},
   "source": [
    "### Construct model"
   ]
  },
  {
   "cell_type": "code",
   "execution_count": 7,
   "id": "9323ec9e-3edc-4fbd-bc68-42f7a7000504",
   "metadata": {},
   "outputs": [
    {
     "name": "stdout",
     "output_type": "stream",
     "text": [
      "611 193610\n"
     ]
    }
   ],
   "source": [
    "num_users = ratings['userId'].max() + 1\n",
    "num_items = ratings['movieId'].max() + 1\n",
    "\n",
    "print(num_users, num_items)\n",
    "\n",
    "all_movieIds = ratings['movieId'].unique()\n",
    "model = NCF(num_users, num_items, train_ratings, all_movieIds)\n",
    "model = model.to(device)\n",
    "\n",
    "train_dataloader = DataLoader(MovieLensTrainDataset(ratings, all_movieIds),\n",
    "                              batch_size=512, num_workers=4)\n",
    "\n",
    "criterion = nn.BCELoss()\n",
    "optimizer = torch.optim.Adam(model.parameters())\n",
    "\n",
    "def train_one_step(batch):\n",
    "    optimizer.zero_grad()\n",
    "    \n",
    "    user_inputs, item_inputs, labels = batch\n",
    "    user_inputs = user_inputs.to(device)\n",
    "    item_inputs = item_inputs.to(device)\n",
    "    labels = labels.to(device)\n",
    "    predicted_labels = model(user_inputs, item_inputs)\n",
    "    loss = criterion(predicted_labels, labels.view(-1, 1).float())\n",
    "    loss.backward()\n",
    "    optimizer.step()\n",
    "\n",
    "    return loss"
   ]
  },
  {
   "cell_type": "markdown",
   "id": "043edd81-84e0-4c15-a77b-18a2d8b6a64e",
   "metadata": {},
   "source": [
    "### Do the train"
   ]
  },
  {
   "cell_type": "code",
   "execution_count": 8,
   "id": "ac715098-b4da-4fae-97ea-a8de6531f43f",
   "metadata": {},
   "outputs": [
    {
     "name": "stdout",
     "output_type": "stream",
     "text": [
      "Epoch 1/100, avg_loss=0.4473012905738075\n",
      "Epoch 2/100, avg_loss=0.34722361404278557\n",
      "Epoch 3/100, avg_loss=0.3255049181014753\n",
      "Epoch 4/100, avg_loss=0.3164929483293882\n",
      "Epoch 5/100, avg_loss=0.31079592241853626\n",
      "Epoch 6/100, avg_loss=0.30625686052486983\n",
      "Epoch 7/100, avg_loss=0.3019910601038618\n",
      "Epoch 8/100, avg_loss=0.29765245049132916\n",
      "Epoch 9/100, avg_loss=0.29301929224263595\n",
      "Epoch 10/100, avg_loss=0.2880580403931855\n",
      "Epoch 11/100, avg_loss=0.28260333867847615\n",
      "Epoch 12/100, avg_loss=0.2767180361420975\n",
      "Epoch 13/100, avg_loss=0.27038728615959284\n",
      "Epoch 14/100, avg_loss=0.26373357588264545\n",
      "Epoch 15/100, avg_loss=0.2566913501562806\n",
      "Epoch 16/100, avg_loss=0.2494507082071401\n",
      "Epoch 17/100, avg_loss=0.24208052070612834\n",
      "Epoch 18/100, avg_loss=0.234645957223655\n",
      "Epoch 19/100, avg_loss=0.22728408885183674\n",
      "Epoch 20/100, avg_loss=0.21995036659506978\n",
      "Epoch 21/100, avg_loss=0.21264794568725043\n",
      "Epoch 22/100, avg_loss=0.2055503193194491\n",
      "Epoch 23/100, avg_loss=0.1985582836690893\n",
      "Epoch 24/100, avg_loss=0.19186018616112355\n",
      "Epoch 25/100, avg_loss=0.18542921062048318\n",
      "Epoch 26/100, avg_loss=0.17916335940814865\n",
      "Epoch 27/100, avg_loss=0.17317618875182825\n",
      "Epoch 28/100, avg_loss=0.16733109134102836\n",
      "Epoch 29/100, avg_loss=0.16166651660415726\n",
      "Epoch 30/100, avg_loss=0.15619899349164237\n",
      "Epoch 31/100, avg_loss=0.15099974403224015\n",
      "Epoch 32/100, avg_loss=0.14588099564543835\n",
      "Epoch 33/100, avg_loss=0.1410333134649974\n",
      "Epoch 34/100, avg_loss=0.136311695221717\n",
      "Epoch 35/100, avg_loss=0.1317981803250797\n",
      "Epoch 36/100, avg_loss=0.12753362640511565\n",
      "Epoch 37/100, avg_loss=0.12332444657680347\n",
      "Epoch 38/100, avg_loss=0.11945043371111003\n",
      "Epoch 39/100, avg_loss=0.11560853277214893\n",
      "Epoch 40/100, avg_loss=0.1118893186604311\n",
      "Epoch 41/100, avg_loss=0.10839703652610634\n",
      "Epoch 42/100, avg_loss=0.10502823825717578\n",
      "Epoch 43/100, avg_loss=0.10167642255044225\n",
      "Epoch 44/100, avg_loss=0.0985062506333523\n",
      "Epoch 45/100, avg_loss=0.09547020154934244\n",
      "Epoch 46/100, avg_loss=0.09249267635233512\n",
      "Epoch 47/100, avg_loss=0.0897330839584019\n",
      "Epoch 48/100, avg_loss=0.08687551714442103\n",
      "Epoch 49/100, avg_loss=0.08432537929206935\n",
      "Epoch 50/100, avg_loss=0.0816848233758193\n",
      "Epoch 51/100, avg_loss=0.07921254778195759\n",
      "Epoch 52/100, avg_loss=0.07691019779912711\n",
      "Epoch 53/100, avg_loss=0.07455973510966084\n",
      "Epoch 54/100, avg_loss=0.0723951302166215\n",
      "Epoch 55/100, avg_loss=0.07059498137704612\n",
      "Epoch 56/100, avg_loss=0.06901820933228822\n",
      "Epoch 57/100, avg_loss=0.06778357703673658\n",
      "Epoch 58/100, avg_loss=0.06748229997412203\n",
      "Epoch 59/100, avg_loss=0.06704779649106077\n",
      "Epoch 60/100, avg_loss=0.06682797236944818\n",
      "Epoch 61/100, avg_loss=0.06730158439445011\n",
      "Epoch 62/100, avg_loss=0.06571892633996336\n",
      "Epoch 63/100, avg_loss=0.0617561984637062\n",
      "Epoch 64/100, avg_loss=0.057327726462543915\n",
      "Epoch 65/100, avg_loss=0.05376960686998924\n",
      "Epoch 66/100, avg_loss=0.0512370206737125\n",
      "Epoch 67/100, avg_loss=0.04961078884410979\n",
      "Epoch 68/100, avg_loss=0.04834253371783017\n",
      "Epoch 69/100, avg_loss=0.0472225289886373\n",
      "Epoch 70/100, avg_loss=0.046437427558496516\n",
      "Epoch 71/100, avg_loss=0.0463413208496147\n",
      "Epoch 72/100, avg_loss=0.04745905549657829\n",
      "Epoch 73/100, avg_loss=0.050667074351065655\n",
      "Epoch 74/100, avg_loss=0.05498068967106076\n",
      "Epoch 75/100, avg_loss=0.05416395642090267\n",
      "Epoch 76/100, avg_loss=0.05008937018701268\n",
      "Epoch 77/100, avg_loss=0.04592386899979284\n",
      "Epoch 78/100, avg_loss=0.04288736851649538\n",
      "Epoch 79/100, avg_loss=0.039772348832055396\n",
      "Epoch 80/100, avg_loss=0.03756354449099393\n",
      "Epoch 81/100, avg_loss=0.036210534994863916\n",
      "Epoch 82/100, avg_loss=0.03510962783212438\n",
      "Epoch 83/100, avg_loss=0.03447314274643883\n",
      "Epoch 84/100, avg_loss=0.033582157046926506\n",
      "Epoch 85/100, avg_loss=0.032579026349494\n",
      "Epoch 86/100, avg_loss=0.033330679379479235\n",
      "Epoch 87/100, avg_loss=0.03317229018125891\n",
      "Epoch 88/100, avg_loss=0.034675350802274525\n",
      "Epoch 89/100, avg_loss=0.03645051445169043\n",
      "Epoch 90/100, avg_loss=0.03560189834989721\n",
      "Epoch 91/100, avg_loss=0.03599798544617323\n",
      "Epoch 92/100, avg_loss=0.0352730317788227\n",
      "Epoch 93/100, avg_loss=0.03512423391250638\n",
      "Epoch 94/100, avg_loss=0.034008035719451414\n",
      "Epoch 95/100, avg_loss=0.0316887570667993\n",
      "Epoch 96/100, avg_loss=0.028963289220302085\n",
      "Epoch 97/100, avg_loss=0.026529888228659853\n",
      "Epoch 98/100, avg_loss=0.024976624329078018\n",
      "Epoch 99/100, avg_loss=0.02511465160346349\n",
      "Epoch 100/100, avg_loss=0.02332526719821664\n"
     ]
    }
   ],
   "source": [
    "epochs = 100\n",
    "for i in range(epochs):\n",
    "    loss_sum = 0.0\n",
    "    sample = 0\n",
    "    for batch_idx, batch in enumerate(train_dataloader):\n",
    "        loss = train_one_step(batch)\n",
    "        loss_sum += loss.item()\n",
    "        \n",
    "    print(f'Epoch {i + 1}/{epochs}, avg_loss={loss_sum/len(train_dataloader)}')"
   ]
  },
  {
   "cell_type": "markdown",
   "id": "4948ef89-162b-4de4-ab0e-0fd32cc54b94",
   "metadata": {},
   "source": [
    "### Prepare test data"
   ]
  },
  {
   "cell_type": "code",
   "execution_count": 12,
   "id": "8c905104-1c5b-49b4-a700-d6f523487eef",
   "metadata": {},
   "outputs": [],
   "source": [
    "test_user_item_set = set(zip(test_ratings['userId'], test_ratings['movieId']))\n",
    "\n",
    "# { userId: movieIds }\n",
    "user_interacted_items = ratings.groupby('userId')['movieId'].apply(list).to_dict()\n",
    "user_interacted_items_set = ratings.groupby('userId')['movieId'].apply(set).to_dict()"
   ]
  },
  {
   "cell_type": "markdown",
   "id": "61a007f5-5b0a-44fb-8aa5-57cc7b1d1a29",
   "metadata": {},
   "source": [
    "### Do the test"
   ]
  },
  {
   "cell_type": "code",
   "execution_count": 13,
   "id": "aa5a9e23-c56c-492e-9ac5-c0343fe039d3",
   "metadata": {},
   "outputs": [],
   "source": [
    "import random\n",
    "\n",
    "sample_count = 0\n",
    "hit = 0\n",
    "\n",
    "with torch.no_grad():\n",
    "    for u, i in sorted(test_user_item_set):\n",
    "        interacted_items = user_interacted_items[u]\n",
    "        not_interacted_items = set(all_movieIds) - user_interacted_items_set[u]\n",
    "        selected_not_interacted_items = random.sample(list(not_interacted_items), 99)\n",
    "    \n",
    "        test_items = selected_not_interacted_items + [i]\n",
    "    \n",
    "        user_input = torch.tensor([u] * 100).to(device)\n",
    "        item_input = torch.tensor(test_items).to(device)\n",
    "    \n",
    "        predicted = model(user_input, item_input)\n",
    "        predicted = predicted.squeeze()\n",
    "\n",
    "        items_to_recommend = torch.topk(predicted, 10).indices.tolist()\n",
    "        sample_count += 1\n",
    "        if 99 in items_to_recommend:\n",
    "            hit += 1"
   ]
  },
  {
   "cell_type": "code",
   "execution_count": 14,
   "id": "19689cb7-4ebf-4068-b075-3b27d46dad0f",
   "metadata": {},
   "outputs": [
    {
     "name": "stdout",
     "output_type": "stream",
     "text": [
      "0.9120218579234972\n"
     ]
    }
   ],
   "source": [
    "# Recommend success accuracy\n",
    "print(hit / sample_count)"
   ]
  }
 ],
 "metadata": {
  "kernelspec": {
   "display_name": "Python 3 (ipykernel)",
   "language": "python",
   "name": "python3"
  },
  "language_info": {
   "codemirror_mode": {
    "name": "ipython",
    "version": 3
   },
   "file_extension": ".py",
   "mimetype": "text/x-python",
   "name": "python",
   "nbconvert_exporter": "python",
   "pygments_lexer": "ipython3",
   "version": "3.11.6"
  }
 },
 "nbformat": 4,
 "nbformat_minor": 5
}
