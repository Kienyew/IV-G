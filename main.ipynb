{
 "cells": [
  {
   "cell_type": "markdown",
   "id": "578e2488-b9bf-4fb4-acc2-37ab8217bba6",
   "metadata": {},
   "source": [
    "抄袭自 https://www.kaggle.com/code/jamesloy/deep-learning-based-recommender-systems"
   ]
  },
  {
   "cell_type": "code",
   "execution_count": 1,
   "id": "279f77a8-59a9-4f05-9f8b-3c72993a91a4",
   "metadata": {},
   "outputs": [
    {
     "name": "stdout",
     "output_type": "stream",
     "text": [
      "using cuda device\n"
     ]
    }
   ],
   "source": [
    "from datetime import datetime\n",
    "import pandas as pd\n",
    "import numpy as np\n",
    "\n",
    "import torch\n",
    "import torch.nn as nn\n",
    "from torch.utils.data import Dataset, DataLoader\n",
    "\n",
    "device = torch.device('cuda' if torch.cuda.is_available() else 'cpu')\n",
    "# np.random.seed(1024)\n",
    "\n",
    "print(f'using {device} device')"
   ]
  },
  {
   "cell_type": "markdown",
   "id": "2b674cd1-83d9-4901-9f1e-e02589e0e968",
   "metadata": {},
   "source": [
    "### Read dataset from file"
   ]
  },
  {
   "cell_type": "code",
   "execution_count": 2,
   "id": "804c3e8f-3a9e-434e-9bb1-59d3a4560a99",
   "metadata": {},
   "outputs": [
    {
     "data": {
      "text/html": [
       "<div>\n",
       "<style scoped>\n",
       "    .dataframe tbody tr th:only-of-type {\n",
       "        vertical-align: middle;\n",
       "    }\n",
       "\n",
       "    .dataframe tbody tr th {\n",
       "        vertical-align: top;\n",
       "    }\n",
       "\n",
       "    .dataframe thead th {\n",
       "        text-align: right;\n",
       "    }\n",
       "</style>\n",
       "<table border=\"1\" class=\"dataframe\">\n",
       "  <thead>\n",
       "    <tr style=\"text-align: right;\">\n",
       "      <th></th>\n",
       "      <th>userId</th>\n",
       "      <th>movieId</th>\n",
       "      <th>rating</th>\n",
       "      <th>timestamp</th>\n",
       "    </tr>\n",
       "  </thead>\n",
       "  <tbody>\n",
       "    <tr>\n",
       "      <th>329039</th>\n",
       "      <td>1943</td>\n",
       "      <td>1259</td>\n",
       "      <td>5</td>\n",
       "      <td>2000-11-21 08:55:00</td>\n",
       "    </tr>\n",
       "    <tr>\n",
       "      <th>284273</th>\n",
       "      <td>1698</td>\n",
       "      <td>2348</td>\n",
       "      <td>4</td>\n",
       "      <td>2000-11-21 10:10:10</td>\n",
       "    </tr>\n",
       "    <tr>\n",
       "      <th>739016</th>\n",
       "      <td>4415</td>\n",
       "      <td>110</td>\n",
       "      <td>5</td>\n",
       "      <td>2000-08-02 01:40:05</td>\n",
       "    </tr>\n",
       "    <tr>\n",
       "      <th>107971</th>\n",
       "      <td>710</td>\n",
       "      <td>1196</td>\n",
       "      <td>5</td>\n",
       "      <td>2000-11-30 16:02:19</td>\n",
       "    </tr>\n",
       "    <tr>\n",
       "      <th>265740</th>\n",
       "      <td>1613</td>\n",
       "      <td>2891</td>\n",
       "      <td>3</td>\n",
       "      <td>2000-11-20 23:02:20</td>\n",
       "    </tr>\n",
       "  </tbody>\n",
       "</table>\n",
       "</div>"
      ],
      "text/plain": [
       "        userId  movieId  rating           timestamp\n",
       "329039    1943     1259       5 2000-11-21 08:55:00\n",
       "284273    1698     2348       4 2000-11-21 10:10:10\n",
       "739016    4415      110       5 2000-08-02 01:40:05\n",
       "107971     710     1196       5 2000-11-30 16:02:19\n",
       "265740    1613     2891       3 2000-11-20 23:02:20"
      ]
     },
     "execution_count": 2,
     "metadata": {},
     "output_type": "execute_result"
    }
   ],
   "source": [
    "# From https://grouplens.org/datasets/movielens/latest/\n",
    "# Should use ml-latest instead of ml-latest-small for final project \n",
    "ratings = pd.read_csv('./ml-1m/ratings.dat',\n",
    "                      sep='::',\n",
    "                      engine='python',\n",
    "                      header=None,\n",
    "                      names=['userId', 'movieId', 'rating', 'timestamp'],\n",
    "                      parse_dates=['timestamp'],\n",
    "                      date_parser=lambda s: datetime.fromtimestamp(int(s))\n",
    "                     )\n",
    "ratings.sample(5)"
   ]
  },
  {
   "cell_type": "markdown",
   "id": "30ff67a4-cde3-4b0b-bd4d-9af09128700f",
   "metadata": {},
   "source": [
    "### Sort entry by timestamp"
   ]
  },
  {
   "cell_type": "code",
   "execution_count": 3,
   "id": "1765a10f-013a-4d64-b592-e7c0756c89a6",
   "metadata": {},
   "outputs": [
    {
     "data": {
      "text/plain": [
       "0           42.0\n",
       "1           23.0\n",
       "2           28.0\n",
       "3           47.0\n",
       "4            4.0\n",
       "           ...  \n",
       "1000204    161.0\n",
       "1000205    293.0\n",
       "1000206    305.0\n",
       "1000207    234.0\n",
       "1000208    246.0\n",
       "Name: rank_latest, Length: 1000209, dtype: float64"
      ]
     },
     "execution_count": 3,
     "metadata": {},
     "output_type": "execute_result"
    }
   ],
   "source": [
    "ratings['rank_latest'] = ratings.groupby(['userId'])['timestamp'] \\\n",
    "                                .rank(method='first', ascending=False)\n",
    "\n",
    "ratings['rank_latest']"
   ]
  },
  {
   "cell_type": "markdown",
   "id": "b0722b4e-1ee2-4cca-bea8-52896a1f382f",
   "metadata": {},
   "source": [
    "### Train-test split by timestamp\n",
    "We use earlier entries as train data, latest entries as test data, because it does not makes sense to use future data to predict earlier behaviour."
   ]
  },
  {
   "cell_type": "code",
   "execution_count": 4,
   "id": "bae08af6-c388-4e22-8583-40bbf4a37e15",
   "metadata": {},
   "outputs": [
    {
     "data": {
      "text/html": [
       "<div>\n",
       "<style scoped>\n",
       "    .dataframe tbody tr th:only-of-type {\n",
       "        vertical-align: middle;\n",
       "    }\n",
       "\n",
       "    .dataframe tbody tr th {\n",
       "        vertical-align: top;\n",
       "    }\n",
       "\n",
       "    .dataframe thead th {\n",
       "        text-align: right;\n",
       "    }\n",
       "</style>\n",
       "<table border=\"1\" class=\"dataframe\">\n",
       "  <thead>\n",
       "    <tr style=\"text-align: right;\">\n",
       "      <th></th>\n",
       "      <th>userId</th>\n",
       "      <th>movieId</th>\n",
       "      <th>rating</th>\n",
       "    </tr>\n",
       "  </thead>\n",
       "  <tbody>\n",
       "    <tr>\n",
       "      <th>0</th>\n",
       "      <td>1</td>\n",
       "      <td>1193</td>\n",
       "      <td>5</td>\n",
       "    </tr>\n",
       "    <tr>\n",
       "      <th>1</th>\n",
       "      <td>1</td>\n",
       "      <td>661</td>\n",
       "      <td>3</td>\n",
       "    </tr>\n",
       "    <tr>\n",
       "      <th>2</th>\n",
       "      <td>1</td>\n",
       "      <td>914</td>\n",
       "      <td>3</td>\n",
       "    </tr>\n",
       "    <tr>\n",
       "      <th>3</th>\n",
       "      <td>1</td>\n",
       "      <td>3408</td>\n",
       "      <td>4</td>\n",
       "    </tr>\n",
       "    <tr>\n",
       "      <th>4</th>\n",
       "      <td>1</td>\n",
       "      <td>2355</td>\n",
       "      <td>5</td>\n",
       "    </tr>\n",
       "    <tr>\n",
       "      <th>...</th>\n",
       "      <td>...</td>\n",
       "      <td>...</td>\n",
       "      <td>...</td>\n",
       "    </tr>\n",
       "    <tr>\n",
       "      <th>1000204</th>\n",
       "      <td>6040</td>\n",
       "      <td>1091</td>\n",
       "      <td>1</td>\n",
       "    </tr>\n",
       "    <tr>\n",
       "      <th>1000205</th>\n",
       "      <td>6040</td>\n",
       "      <td>1094</td>\n",
       "      <td>5</td>\n",
       "    </tr>\n",
       "    <tr>\n",
       "      <th>1000206</th>\n",
       "      <td>6040</td>\n",
       "      <td>562</td>\n",
       "      <td>5</td>\n",
       "    </tr>\n",
       "    <tr>\n",
       "      <th>1000207</th>\n",
       "      <td>6040</td>\n",
       "      <td>1096</td>\n",
       "      <td>4</td>\n",
       "    </tr>\n",
       "    <tr>\n",
       "      <th>1000208</th>\n",
       "      <td>6040</td>\n",
       "      <td>1097</td>\n",
       "      <td>4</td>\n",
       "    </tr>\n",
       "  </tbody>\n",
       "</table>\n",
       "<p>982089 rows × 3 columns</p>\n",
       "</div>"
      ],
      "text/plain": [
       "         userId  movieId  rating\n",
       "0             1     1193       5\n",
       "1             1      661       3\n",
       "2             1      914       3\n",
       "3             1     3408       4\n",
       "4             1     2355       5\n",
       "...         ...      ...     ...\n",
       "1000204    6040     1091       1\n",
       "1000205    6040     1094       5\n",
       "1000206    6040      562       5\n",
       "1000207    6040     1096       4\n",
       "1000208    6040     1097       4\n",
       "\n",
       "[982089 rows x 3 columns]"
      ]
     },
     "execution_count": 4,
     "metadata": {},
     "output_type": "execute_result"
    }
   ],
   "source": [
    "ratings['rank_latest'] = ratings.groupby(['userId'])['timestamp'] \\\n",
    "       .rank(method='first', ascending=False)\n",
    "\n",
    "train_ratings = ratings[ratings['rank_latest'] >= 4.0]\n",
    "test_ratings = ratings[ratings['rank_latest'] < 4.0]\n",
    "\n",
    "train_ratings = train_ratings[['userId', 'movieId', 'rating']]\n",
    "test_ratings = test_ratings[['userId', 'movieId', 'rating']]\n",
    "\n",
    "train_ratings"
   ]
  },
  {
   "cell_type": "markdown",
   "id": "d78c0d7a-d9f0-47f0-97c3-86cabff27a42",
   "metadata": {},
   "source": [
    "### Define dataset class"
   ]
  },
  {
   "cell_type": "code",
   "execution_count": 5,
   "id": "775fa8c1-9746-425d-a9c5-8f0ad6e4d6d0",
   "metadata": {},
   "outputs": [],
   "source": [
    "class MovieLensTrainDataset(Dataset):\n",
    "    def __init__(self, ratings, all_movieIds):\n",
    "        self.users, self.items, self.labels = self.get_dataset(ratings, all_movieIds)\n",
    "\n",
    "    def __len__(self):\n",
    "        return len(self.users)\n",
    "\n",
    "    def __getitem__(self, idx):\n",
    "        return self.users[idx], self.items[idx], self.labels[idx]\n",
    "\n",
    "    def get_dataset(self, ratings, all_movieIds):\n",
    "        users, items, labels = [], [], []        \n",
    "        user_item_set = set(zip(ratings['userId'], ratings['movieId']))\n",
    "        num_negative = 4\n",
    "        for u, i in user_item_set:\n",
    "            users.append(u)\n",
    "            items.append(i)\n",
    "            labels.append(1)\n",
    "        \n",
    "            for _ in range(num_negative):\n",
    "                negative_item = np.random.choice(all_movieIds)\n",
    "                while (u, negative_item) in user_item_set:\n",
    "                    negative_item = np.random.choice(all_movieIds)\n",
    "        \n",
    "                users.append(u)\n",
    "                items.append(negative_item)\n",
    "                labels.append(0)\n",
    " \n",
    "        users_tensor = torch.tensor(users)\n",
    "        items_tensor = torch.tensor(items)\n",
    "        labels_tensor = torch.tensor(labels)\n",
    "\n",
    "        return users_tensor, items_tensor, labels_tensor"
   ]
  },
  {
   "cell_type": "markdown",
   "id": "472e6ad6-42cc-4ef3-a7c7-7e48ab7723e3",
   "metadata": {},
   "source": [
    "### Define NCF model structure"
   ]
  },
  {
   "cell_type": "code",
   "execution_count": 6,
   "id": "095bd0a2-e481-4ed1-a9d7-55f01a10c173",
   "metadata": {},
   "outputs": [],
   "source": [
    "class NCF(torch.nn.Module):\n",
    "    def __init__(self, num_users, num_items, ratings, all_movieIds):\n",
    "        super().__init__()\n",
    "        self.user_embedding = nn.Embedding(num_embeddings=num_users, embedding_dim=256)\n",
    "        self.item_embedding = nn.Embedding(num_embeddings=num_items, embedding_dim=256)\n",
    "        self.fc1 = nn.Linear(in_features=256 + 256, out_features=256)\n",
    "        self.fc2 = nn.Linear(in_features=256, out_features=128)\n",
    "        self.fc3 = nn.Linear(in_features=128, out_features=64)\n",
    "        self.output = nn.Linear(in_features=64, out_features=1)\n",
    "        self.ratings = ratings\n",
    "        self.all_movieIds = all_movieIds\n",
    "    \n",
    "    def forward(self, user_input, item_input):        \n",
    "        user_embedded = self.user_embedding(user_input)\n",
    "        item_embedded = self.item_embedding(item_input)\n",
    "\n",
    "        vector = torch.cat([user_embedded, item_embedded], dim=1)\n",
    "        vector = nn.Tanh()(self.fc1(vector))\n",
    "        vector = nn.Dropout(p=0.2)(vector)\n",
    "        vector = nn.ReLU()(self.fc2(vector))\n",
    "        vector = nn.Dropout(p=0.2)(vector)\n",
    "        vector = nn.ReLU()(self.fc3(vector))\n",
    "        vector = nn.Dropout(p=0.2)(vector)\n",
    "\n",
    "        output = nn.Sigmoid()(self.output(vector))\n",
    "        return output"
   ]
  },
  {
   "cell_type": "markdown",
   "id": "87bc1691-9956-45e2-ad1f-8165772c2f78",
   "metadata": {},
   "source": [
    "### Construct model"
   ]
  },
  {
   "cell_type": "code",
   "execution_count": 7,
   "id": "9323ec9e-3edc-4fbd-bc68-42f7a7000504",
   "metadata": {},
   "outputs": [
    {
     "name": "stdout",
     "output_type": "stream",
     "text": [
      "6041 3953\n"
     ]
    }
   ],
   "source": [
    "num_users = ratings['userId'].max() + 1\n",
    "num_items = ratings['movieId'].max() + 1\n",
    "\n",
    "print(num_users, num_items)\n",
    "\n",
    "all_movieIds = ratings['movieId'].unique()\n",
    "model = NCF(num_users, num_items, train_ratings, all_movieIds)\n",
    "model = model.to(device)\n",
    "\n",
    "train_dataloader = DataLoader(MovieLensTrainDataset(ratings, all_movieIds),\n",
    "                              batch_size=64, num_workers=4)\n",
    "\n",
    "criterion = nn.BCELoss()\n",
    "optimizer = torch.optim.Adam(model.parameters(), 1e-4)\n",
    "\n",
    "def train_one_step(batch):\n",
    "    optimizer.zero_grad()\n",
    "    \n",
    "    user_inputs, item_inputs, labels = batch\n",
    "    user_inputs = user_inputs.to(device)\n",
    "    item_inputs = item_inputs.to(device)\n",
    "    labels = labels.to(device)\n",
    "    predicted_labels = model(user_inputs, item_inputs)\n",
    "    loss = criterion(predicted_labels, labels.view(-1, 1).float())\n",
    "    loss.backward()\n",
    "    optimizer.step()\n",
    "\n",
    "    return loss"
   ]
  },
  {
   "cell_type": "markdown",
   "id": "4948ef89-162b-4de4-ab0e-0fd32cc54b94",
   "metadata": {},
   "source": [
    "### Prepare test data"
   ]
  },
  {
   "cell_type": "code",
   "execution_count": 8,
   "id": "8c905104-1c5b-49b4-a700-d6f523487eef",
   "metadata": {},
   "outputs": [],
   "source": [
    "test_user_item_set = set(zip(test_ratings['userId'], test_ratings['movieId']))\n",
    "\n",
    "# { userId: movieIds }\n",
    "user_interacted_items = ratings.groupby('userId')['movieId'].apply(list).to_dict()\n",
    "user_interacted_items_set = ratings.groupby('userId')['movieId'].apply(set).to_dict()"
   ]
  },
  {
   "cell_type": "markdown",
   "id": "043edd81-84e0-4c15-a77b-18a2d8b6a64e",
   "metadata": {},
   "source": [
    "### Do the train"
   ]
  },
  {
   "cell_type": "code",
   "execution_count": 9,
   "id": "ac715098-b4da-4fae-97ea-a8de6531f43f",
   "metadata": {},
   "outputs": [
    {
     "name": "stdout",
     "output_type": "stream",
     "text": [
      "0.10353200883002207\n",
      "Epoch 1/100, avg_loss=0.3742671354599027, hitrate=0.45684326710816775\n",
      "Epoch 2/100, avg_loss=0.35656329303566453, hitrate=0.45921633554083885\n",
      "Epoch 3/100, avg_loss=0.34897858804831083, hitrate=0.47560706401766006\n",
      "Epoch 4/100, avg_loss=0.33484954359813873, hitrate=0.5012693156732891\n",
      "Epoch 5/100, avg_loss=0.3222918165566148, hitrate=0.5320640176600442\n",
      "Epoch 6/100, avg_loss=0.3133495983783923, hitrate=0.5540838852097131\n",
      "Epoch 7/100, avg_loss=0.3068103324837876, hitrate=0.5653421633554084\n",
      "Epoch 8/100, avg_loss=0.3014813748659258, hitrate=0.5834988962472406\n",
      "Epoch 9/100, avg_loss=0.29699324513682446, hitrate=0.5909492273730684\n",
      "Epoch 10/100, avg_loss=0.29289986607661656, hitrate=0.6039183222958058\n",
      "Epoch 11/100, avg_loss=0.2891788255887741, hitrate=0.6138520971302428\n",
      "Epoch 12/100, avg_loss=0.28584281576022724, hitrate=0.6255518763796909\n",
      "Epoch 13/100, avg_loss=0.28283163108178944, hitrate=0.6282560706401766\n",
      "Epoch 14/100, avg_loss=0.27976754228542394, hitrate=0.6370860927152318\n",
      "Epoch 15/100, avg_loss=0.27717430864530296, hitrate=0.6417770419426049\n",
      "Epoch 16/100, avg_loss=0.27455336770888455, hitrate=0.6460264900662251\n",
      "Epoch 17/100, avg_loss=0.2720697150691756, hitrate=0.6571192052980133\n",
      "Epoch 18/100, avg_loss=0.2699030465634603, hitrate=0.6569536423841059\n",
      "Epoch 19/100, avg_loss=0.26758408531402045, hitrate=0.6588852097130243\n",
      "Epoch 20/100, avg_loss=0.2655278889817566, hitrate=0.6672737306843267\n",
      "Epoch 21/100, avg_loss=0.26327009673462115, hitrate=0.669757174392936\n",
      "Epoch 22/100, avg_loss=0.26124113073373195, hitrate=0.672682119205298\n",
      "Epoch 23/100, avg_loss=0.2593543759216869, hitrate=0.6821743929359824\n",
      "Epoch 24/100, avg_loss=0.2573235936821192, hitrate=0.6818432671081678\n",
      "Epoch 25/100, avg_loss=0.25533579804499235, hitrate=0.6857615894039735\n",
      "Epoch 26/100, avg_loss=0.25370040786640924, hitrate=0.6886865342163355\n",
      "Epoch 27/100, avg_loss=0.2519004733162326, hitrate=0.6903973509933775\n",
      "Epoch 28/100, avg_loss=0.2500274479269531, hitrate=0.694205298013245\n",
      "Epoch 29/100, avg_loss=0.24823050364573157, hitrate=0.7001103752759382\n",
      "Epoch 30/100, avg_loss=0.24652844265710508, hitrate=0.7022626931567328\n",
      "Epoch 31/100, avg_loss=0.24497241459565497, hitrate=0.7075055187637969\n",
      "Epoch 32/100, avg_loss=0.24348292620012824, hitrate=0.7051876379690949\n",
      "Epoch 33/100, avg_loss=0.2416265731505932, hitrate=0.7112030905077262\n",
      "Epoch 34/100, avg_loss=0.24011614327368666, hitrate=0.7129139072847682\n",
      "Epoch 35/100, avg_loss=0.2386448913401655, hitrate=0.7179359823399558\n",
      "Epoch 36/100, avg_loss=0.2372324850840904, hitrate=0.7190949227373068\n",
      "Epoch 37/100, avg_loss=0.2357319287168388, hitrate=0.7213576158940397\n",
      "Epoch 38/100, avg_loss=0.23427499142133823, hitrate=0.7258278145695364\n",
      "Epoch 39/100, avg_loss=0.2327362697734368, hitrate=0.7247240618101545\n",
      "Epoch 40/100, avg_loss=0.23127657784424746, hitrate=0.7274834437086093\n",
      "Epoch 41/100, avg_loss=0.22993691855850523, hitrate=0.7330022075055188\n",
      "Epoch 42/100, avg_loss=0.2287652167666552, hitrate=0.7320640176600441\n",
      "Epoch 43/100, avg_loss=0.22724764410240733, hitrate=0.7413355408388521\n",
      "Epoch 44/100, avg_loss=0.22598042555900125, hitrate=0.7384657836644591\n",
      "Epoch 45/100, avg_loss=0.22477251942187768, hitrate=0.7394591611479029\n",
      "Epoch 46/100, avg_loss=0.22350099435554902, hitrate=0.747075055187638\n",
      "Epoch 47/100, avg_loss=0.22230302135003058, hitrate=0.7460816777041943\n",
      "Epoch 48/100, avg_loss=0.2211081001595136, hitrate=0.7472958057395144\n",
      "Epoch 49/100, avg_loss=0.21985844227330587, hitrate=0.7496136865342163\n",
      "Epoch 50/100, avg_loss=0.2187147152950916, hitrate=0.7530353200883002\n",
      "Epoch 51/100, avg_loss=0.21780720780236765, hitrate=0.755242825607064\n",
      "Epoch 52/100, avg_loss=0.21644096754899222, hitrate=0.7591611479028697\n",
      "Epoch 53/100, avg_loss=0.2155250446945627, hitrate=0.7595474613686535\n",
      "Epoch 54/100, avg_loss=0.21440640558093668, hitrate=0.7599889624724062\n",
      "Epoch 55/100, avg_loss=0.2135841491390722, hitrate=0.7620309050772627\n",
      "Epoch 56/100, avg_loss=0.21241304544286085, hitrate=0.7667218543046358\n",
      "Epoch 57/100, avg_loss=0.2115371895395329, hitrate=0.7666666666666667\n",
      "Epoch 58/100, avg_loss=0.21051495906536408, hitrate=0.7626931567328918\n",
      "Epoch 59/100, avg_loss=0.20968093176111982, hitrate=0.766832229580574\n",
      "Epoch 60/100, avg_loss=0.20856347301184136, hitrate=0.7712472406181016\n",
      "Epoch 61/100, avg_loss=0.20786239874718285, hitrate=0.7705849889624724\n",
      "Epoch 62/100, avg_loss=0.20672649139028923, hitrate=0.7739514348785872\n",
      "Epoch 63/100, avg_loss=0.206037527870574, hitrate=0.7718543046357615\n",
      "Epoch 64/100, avg_loss=0.20527747601347143, hitrate=0.7750551876379691\n",
      "Epoch 65/100, avg_loss=0.20424748312098678, hitrate=0.7783112582781457\n",
      "Epoch 66/100, avg_loss=0.20374551133145724, hitrate=0.7758830022075055\n",
      "Epoch 67/100, avg_loss=0.2025322012684995, hitrate=0.7831677704194261\n",
      "Epoch 68/100, avg_loss=0.20189903858731673, hitrate=0.7805739514348786\n",
      "Epoch 69/100, avg_loss=0.2012651855984763, hitrate=0.7798013245033113\n",
      "Epoch 70/100, avg_loss=0.20017068138690897, hitrate=0.784933774834437\n",
      "Epoch 71/100, avg_loss=0.1996499833837695, hitrate=0.7844922737306843\n",
      "Epoch 72/100, avg_loss=0.19889019352448103, hitrate=0.7884105960264901\n",
      "Epoch 73/100, avg_loss=0.19822894756112927, hitrate=0.7879139072847682\n",
      "Epoch 74/100, avg_loss=0.1973754206073486, hitrate=0.7879139072847682\n",
      "Epoch 75/100, avg_loss=0.19687537938723104, hitrate=0.7908940397350993\n",
      "Epoch 76/100, avg_loss=0.195978973805933, hitrate=0.7890176600441501\n",
      "Epoch 77/100, avg_loss=0.19535575835526955, hitrate=0.7935982339955849\n",
      "Epoch 78/100, avg_loss=0.1949330022513185, hitrate=0.795364238410596\n",
      "Epoch 79/100, avg_loss=0.19430310229052475, hitrate=0.7947019867549668\n",
      "Epoch 80/100, avg_loss=0.19361012186985227, hitrate=0.7927704194260485\n",
      "Epoch 81/100, avg_loss=0.19304164325556358, hitrate=0.7951434878587197\n",
      "Epoch 82/100, avg_loss=0.19222134239602645, hitrate=0.7979028697571744\n",
      "Epoch 83/100, avg_loss=0.19182103024252414, hitrate=0.8013245033112583\n",
      "Epoch 84/100, avg_loss=0.19127374901162983, hitrate=0.798233995584989\n",
      "Epoch 85/100, avg_loss=0.19058378356578776, hitrate=0.7992825607064018\n",
      "Epoch 86/100, avg_loss=0.18999059890146822, hitrate=0.801158940397351\n",
      "Epoch 87/100, avg_loss=0.18948117783558907, hitrate=0.7963024282560707\n",
      "Epoch 88/100, avg_loss=0.18879795465880098, hitrate=0.802924944812362\n",
      "Epoch 89/100, avg_loss=0.18869800680153204, hitrate=0.8018763796909493\n",
      "Epoch 90/100, avg_loss=0.18796203845612705, hitrate=0.8059602649006623\n",
      "Epoch 91/100, avg_loss=0.18731424764293753, hitrate=0.8014348785871964\n",
      "Epoch 92/100, avg_loss=0.18692959163418324, hitrate=0.8078366445916115\n",
      "Epoch 93/100, avg_loss=0.1863984141835092, hitrate=0.8053532008830022\n",
      "Epoch 94/100, avg_loss=0.18578103497220222, hitrate=0.8087748344370861\n",
      "Epoch 95/100, avg_loss=0.18552366370179663, hitrate=0.8085540838852097\n",
      "Epoch 96/100, avg_loss=0.1849252140114053, hitrate=0.8071192052980133\n",
      "Epoch 97/100, avg_loss=0.18462434653825383, hitrate=0.8105408388520972\n",
      "Epoch 98/100, avg_loss=0.1839159208241832, hitrate=0.8126931567328919\n",
      "Epoch 99/100, avg_loss=0.18372727104109352, hitrate=0.8142384105960265\n",
      "Epoch 100/100, avg_loss=0.18320500332391984, hitrate=0.8168874172185431\n"
     ]
    }
   ],
   "source": [
    "import random\n",
    "\n",
    "def eval():\n",
    "    sample_count = 0\n",
    "    hit = 0\n",
    "    \n",
    "    with torch.no_grad():\n",
    "        for u, i in sorted(test_user_item_set):\n",
    "            not_interacted_items = set(all_movieIds) - user_interacted_items_set[u]\n",
    "            selected_not_interacted_items = random.sample(list(not_interacted_items), 99)\n",
    "        \n",
    "            test_items = selected_not_interacted_items + [i]\n",
    "        \n",
    "            user_input = torch.tensor([u] * 100).to(device)\n",
    "            item_input = torch.tensor(test_items).to(device)\n",
    "        \n",
    "            predicted = model(user_input, item_input)\n",
    "            predicted = predicted.squeeze()\n",
    "    \n",
    "            items_to_recommend = torch.topk(predicted, 10).indices.tolist()\n",
    "            sample_count += 1\n",
    "            if 99 in items_to_recommend:\n",
    "                hit += 1\n",
    "    # Recommend success accuracy\n",
    "    return (hit / sample_count)\n",
    "\n",
    "print(eval())\n",
    "epochs = 100\n",
    "for i in range(epochs):\n",
    "    loss_sum = 0.0\n",
    "    sample = 0\n",
    "    for batch_idx, batch in enumerate(train_dataloader):\n",
    "        loss = train_one_step(batch)\n",
    "        loss_sum += loss.item()\n",
    "        \n",
    "    print(f'Epoch {i + 1}/{epochs}, avg_loss={loss_sum/len(train_dataloader)}, hitrate={eval()}')"
   ]
  },
  {
   "cell_type": "markdown",
   "id": "61a007f5-5b0a-44fb-8aa5-57cc7b1d1a29",
   "metadata": {},
   "source": [
    "### Do the test"
   ]
  },
  {
   "cell_type": "code",
   "execution_count": 10,
   "id": "ecd68701-2774-4e97-8107-1113675ce816",
   "metadata": {},
   "outputs": [
    {
     "data": {
      "text/plain": [
       "0.8125275938189845"
      ]
     },
     "execution_count": 10,
     "metadata": {},
     "output_type": "execute_result"
    }
   ],
   "source": [
    "eval()"
   ]
  },
  {
   "cell_type": "code",
   "execution_count": null,
   "id": "2734c72c-97f1-4598-84b7-26afffd08837",
   "metadata": {},
   "outputs": [],
   "source": []
  }
 ],
 "metadata": {
  "kernelspec": {
   "display_name": "Python 3 (ipykernel)",
   "language": "python",
   "name": "python3"
  },
  "language_info": {
   "codemirror_mode": {
    "name": "ipython",
    "version": 3
   },
   "file_extension": ".py",
   "mimetype": "text/x-python",
   "name": "python",
   "nbconvert_exporter": "python",
   "pygments_lexer": "ipython3",
   "version": "3.11.6"
  }
 },
 "nbformat": 4,
 "nbformat_minor": 5
}
